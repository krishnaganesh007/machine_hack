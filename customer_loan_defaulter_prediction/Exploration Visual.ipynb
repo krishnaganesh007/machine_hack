{
 "cells": [
  {
   "cell_type": "code",
   "execution_count": 1,
   "id": "d508158c",
   "metadata": {},
   "outputs": [],
   "source": [
    "import pandas as pd"
   ]
  },
  {
   "cell_type": "markdown",
   "id": "7783ff7a",
   "metadata": {},
   "source": [
    "## Train data"
   ]
  },
  {
   "cell_type": "code",
   "execution_count": 2,
   "id": "a95ec154",
   "metadata": {},
   "outputs": [],
   "source": [
    "train_df = pd.read_csv(\"./data/train.csv\")"
   ]
  },
  {
   "cell_type": "code",
   "execution_count": 3,
   "id": "c4400b8e",
   "metadata": {},
   "outputs": [
    {
     "data": {
      "text/plain": [
       "Index(['customer_id', 'firstname', 'lastname', 'record_number',\n",
       "       'days_since_opened', 'days_since_confirmed', 'primary_term',\n",
       "       'final_term', 'days_till_primary_close', 'days_till_final_close',\n",
       "       'loans_credit_limit', 'loans_next_payment_summary',\n",
       "       'loans_outstanding_balance', 'loans_max_overdue_amount',\n",
       "       'loans_credit_cost_rate', 'loans_within_5_days',\n",
       "       'loans_within_5_to_30_days', 'loans_within_30_to_60_days',\n",
       "       'loans_within_60_to_90_days', 'loans_over_90_days',\n",
       "       'is_zero_loans_within_5_days', 'is_zero_loans_within_5_to_30_days',\n",
       "       'is_zero_loans_within_30_to_60_days',\n",
       "       'is_zero_loans_within_60_to_90_days', 'is_zero_loans_over_90_days',\n",
       "       'utilization', 'over_limit_count', 'max_over_limit_count',\n",
       "       'is_zero_utilization', 'is_zero_over_limit_count',\n",
       "       'is_zero_max_over_limit_count', 'encoded_payment_0',\n",
       "       'encoded_payment_1', 'encoded_payment_2', 'encoded_payment_3',\n",
       "       'encoded_payment_4', 'encoded_payment_5', 'encoded_payment_6',\n",
       "       'encoded_payment_7', 'encoded_payment_8', 'encoded_payment_9',\n",
       "       'encoded_payment_10', 'encoded_payment_11', 'encoded_payment_12',\n",
       "       'encoded_payment_13', 'encoded_payment_14', 'encoded_payment_15',\n",
       "       'encoded_payment_16', 'encoded_payment_17', 'encoded_payment_18',\n",
       "       'encoded_payment_19', 'encoded_payment_20', 'encoded_payment_21',\n",
       "       'encoded_payment_22', 'encoded_payment_23', 'encoded_payment_24',\n",
       "       'encoded_loans_account_holder_type', 'encoded_loans_credit_status',\n",
       "       'encoded_loans_credit_type', 'encoded_loans_account_currency',\n",
       "       'primary_close_flag', 'final_close_flag'],\n",
       "      dtype='object')"
      ]
     },
     "execution_count": 3,
     "metadata": {},
     "output_type": "execute_result"
    }
   ],
   "source": [
    "train_df.columns"
   ]
  },
  {
   "cell_type": "code",
   "execution_count": 11,
   "id": "c054f25e",
   "metadata": {},
   "outputs": [
    {
     "data": {
      "text/plain": [
       "(1106674, 62)"
      ]
     },
     "execution_count": 11,
     "metadata": {},
     "output_type": "execute_result"
    }
   ],
   "source": [
    "train_df.shape"
   ]
  },
  {
   "cell_type": "code",
   "execution_count": 8,
   "id": "b65adf8d",
   "metadata": {},
   "outputs": [
    {
     "data": {
      "text/plain": [
       "customer_id                               0\n",
       "firstname                                 0\n",
       "lastname                                  0\n",
       "record_number                             0\n",
       "days_since_opened                         0\n",
       "days_since_confirmed                      0\n",
       "primary_term                              0\n",
       "final_term                                0\n",
       "days_till_primary_close                   0\n",
       "days_till_final_close                     0\n",
       "loans_credit_limit                        0\n",
       "loans_next_payment_summary                0\n",
       "loans_outstanding_balance                 0\n",
       "loans_max_overdue_amount                  0\n",
       "loans_credit_cost_rate                    0\n",
       "loans_within_5_days                       0\n",
       "loans_within_5_to_30_days                 0\n",
       "loans_within_30_to_60_days                0\n",
       "loans_within_60_to_90_days                0\n",
       "loans_over_90_days                        0\n",
       "is_zero_loans_within_5_days               0\n",
       "is_zero_loans_within_5_to_30_days         0\n",
       "is_zero_loans_within_30_to_60_days        0\n",
       "is_zero_loans_within_60_to_90_days        0\n",
       "is_zero_loans_over_90_days                0\n",
       "utilization                               0\n",
       "over_limit_count                          0\n",
       "max_over_limit_count                      0\n",
       "is_zero_utilization                       0\n",
       "is_zero_over_limit_count                  0\n",
       "is_zero_max_over_limit_count              0\n",
       "encoded_payment_0                     37619\n",
       "encoded_payment_1                     35744\n",
       "encoded_payment_2                     34612\n",
       "encoded_payment_3                     37416\n",
       "encoded_payment_4                     35840\n",
       "encoded_payment_5                     35304\n",
       "encoded_payment_6                     38019\n",
       "encoded_payment_7                     35629\n",
       "encoded_payment_8                     34762\n",
       "encoded_payment_9                     35851\n",
       "encoded_payment_10                    35635\n",
       "encoded_payment_11                    35199\n",
       "encoded_payment_12                    37808\n",
       "encoded_payment_13                    35351\n",
       "encoded_payment_14                    37459\n",
       "encoded_payment_15                    36674\n",
       "encoded_payment_16                    34712\n",
       "encoded_payment_17                    37315\n",
       "encoded_payment_18                    35268\n",
       "encoded_payment_19                    36381\n",
       "encoded_payment_20                    37519\n",
       "encoded_payment_21                    37548\n",
       "encoded_payment_22                    37155\n",
       "encoded_payment_23                    36543\n",
       "encoded_payment_24                    36045\n",
       "encoded_loans_account_holder_type         0\n",
       "encoded_loans_credit_status               0\n",
       "encoded_loans_credit_type                 0\n",
       "encoded_loans_account_currency            0\n",
       "dtype: int64"
      ]
     },
     "execution_count": 8,
     "metadata": {},
     "output_type": "execute_result"
    }
   ],
   "source": [
    "train_df.isna().sum().head(60)"
   ]
  },
  {
   "cell_type": "code",
   "execution_count": 22,
   "id": "a3c918a7",
   "metadata": {},
   "outputs": [
    {
     "name": "stdout",
     "output_type": "stream",
     "text": [
      "<class 'pandas.core.frame.DataFrame'>\n",
      "RangeIndex: 1106674 entries, 0 to 1106673\n",
      "Data columns (total 62 columns):\n",
      " #   Column                              Non-Null Count    Dtype  \n",
      "---  ------                              --------------    -----  \n",
      " 0   customer_id                         1106674 non-null  object \n",
      " 1   firstname                           1106674 non-null  object \n",
      " 2   lastname                            1106674 non-null  object \n",
      " 3   record_number                       1106674 non-null  int64  \n",
      " 4   days_since_opened                   1106674 non-null  int64  \n",
      " 5   days_since_confirmed                1106674 non-null  int64  \n",
      " 6   primary_term                        1106674 non-null  int64  \n",
      " 7   final_term                          1106674 non-null  int64  \n",
      " 8   days_till_primary_close             1106674 non-null  int64  \n",
      " 9   days_till_final_close               1106674 non-null  int64  \n",
      " 10  loans_credit_limit                  1106674 non-null  int64  \n",
      " 11  loans_next_payment_summary          1106674 non-null  int64  \n",
      " 12  loans_outstanding_balance           1106674 non-null  int64  \n",
      " 13  loans_max_overdue_amount            1106674 non-null  int64  \n",
      " 14  loans_credit_cost_rate              1106674 non-null  int64  \n",
      " 15  loans_within_5_days                 1106674 non-null  int64  \n",
      " 16  loans_within_5_to_30_days           1106674 non-null  int64  \n",
      " 17  loans_within_30_to_60_days          1106674 non-null  int64  \n",
      " 18  loans_within_60_to_90_days          1106674 non-null  int64  \n",
      " 19  loans_over_90_days                  1106674 non-null  int64  \n",
      " 20  is_zero_loans_within_5_days         1106674 non-null  object \n",
      " 21  is_zero_loans_within_5_to_30_days   1106674 non-null  object \n",
      " 22  is_zero_loans_within_30_to_60_days  1106674 non-null  object \n",
      " 23  is_zero_loans_within_60_to_90_days  1106674 non-null  object \n",
      " 24  is_zero_loans_over_90_days          1106674 non-null  object \n",
      " 25  utilization                         1106674 non-null  int64  \n",
      " 26  over_limit_count                    1106674 non-null  int64  \n",
      " 27  max_over_limit_count                1106674 non-null  int64  \n",
      " 28  is_zero_utilization                 1106674 non-null  object \n",
      " 29  is_zero_over_limit_count            1106674 non-null  object \n",
      " 30  is_zero_max_over_limit_count        1106674 non-null  object \n",
      " 31  encoded_payment_0                   1069055 non-null  float64\n",
      " 32  encoded_payment_1                   1070930 non-null  float64\n",
      " 33  encoded_payment_2                   1072062 non-null  float64\n",
      " 34  encoded_payment_3                   1069258 non-null  float64\n",
      " 35  encoded_payment_4                   1070834 non-null  float64\n",
      " 36  encoded_payment_5                   1071370 non-null  float64\n",
      " 37  encoded_payment_6                   1068655 non-null  float64\n",
      " 38  encoded_payment_7                   1071045 non-null  float64\n",
      " 39  encoded_payment_8                   1071912 non-null  float64\n",
      " 40  encoded_payment_9                   1070823 non-null  float64\n",
      " 41  encoded_payment_10                  1071039 non-null  float64\n",
      " 42  encoded_payment_11                  1071475 non-null  float64\n",
      " 43  encoded_payment_12                  1068866 non-null  float64\n",
      " 44  encoded_payment_13                  1071323 non-null  float64\n",
      " 45  encoded_payment_14                  1069215 non-null  float64\n",
      " 46  encoded_payment_15                  1070000 non-null  float64\n",
      " 47  encoded_payment_16                  1071962 non-null  float64\n",
      " 48  encoded_payment_17                  1069359 non-null  float64\n",
      " 49  encoded_payment_18                  1071406 non-null  float64\n",
      " 50  encoded_payment_19                  1070293 non-null  float64\n",
      " 51  encoded_payment_20                  1069155 non-null  float64\n",
      " 52  encoded_payment_21                  1069126 non-null  float64\n",
      " 53  encoded_payment_22                  1069519 non-null  float64\n",
      " 54  encoded_payment_23                  1070131 non-null  float64\n",
      " 55  encoded_payment_24                  1070629 non-null  float64\n",
      " 56  encoded_loans_account_holder_type   1106674 non-null  int64  \n",
      " 57  encoded_loans_credit_status         1106674 non-null  int64  \n",
      " 58  encoded_loans_credit_type           1106674 non-null  int64  \n",
      " 59  encoded_loans_account_currency      1106674 non-null  int64  \n",
      " 60  primary_close_flag                  1106674 non-null  int64  \n",
      " 61  final_close_flag                    1106674 non-null  int64  \n",
      "dtypes: float64(25), int64(26), object(11)\n",
      "memory usage: 523.5+ MB\n"
     ]
    }
   ],
   "source": [
    "train_df.info()"
   ]
  },
  {
   "cell_type": "markdown",
   "id": "002c0857",
   "metadata": {},
   "source": [
    "## Correlation map"
   ]
  },
  {
   "cell_type": "code",
   "execution_count": 27,
   "id": "3d9daa4c",
   "metadata": {},
   "outputs": [],
   "source": [
    "## Required libraries \n",
    "import seaborn as sns\n",
    "import matplotlib.pyplot as plt"
   ]
  },
  {
   "cell_type": "code",
   "execution_count": 35,
   "id": "378dbc5a",
   "metadata": {},
   "outputs": [
    {
     "name": "stderr",
     "output_type": "stream",
     "text": [
      "/var/folders/p7/zprxlwg93f381k4p91z4b2l00000gn/T/ipykernel_67332/2736766943.py:1: FutureWarning: The default value of numeric_only in DataFrame.corr is deprecated. In a future version, it will default to False. Select only valid columns or specify the value of numeric_only to silence this warning.\n",
      "  train_corr_matrix = train_df.corr()\n"
     ]
    },
    {
     "data": {
      "image/png": "[encoded data removed]",
      "text/plain": [
       "<Figure size 640x480 with 2 Axes>"
      ]
     },
     "metadata": {},
     "output_type": "display_data"
    }
   ],
   "source": [
    "train_corr_matrix = train_df.corr()\n",
    "sns.heatmap(train_corr_matrix, cmap='coolwarm')\n",
    "plt.show()"
   ]
  },
  {
   "cell_type": "markdown",
   "id": "8eaac6fe",
   "metadata": {},
   "source": [
    "## Function to replace with median values"
   ]
  },
  {
   "cell_type": "code",
   "execution_count": 48,
   "id": "5217d3ed",
   "metadata": {},
   "outputs": [],
   "source": [
    "import pandas as pd\n",
    "\n",
    "def replace_null_with_median(dataframe):\n",
    "    # Calculate the median for each column\n",
    "    median_values = dataframe.median()\n",
    "    \n",
    "    # Replace null values with the respective column's median\n",
    "    dataframe = dataframe.fillna(median_values)\n",
    "    \n",
    "    return dataframe"
   ]
  },
  {
   "cell_type": "markdown",
   "id": "7ae71c2d",
   "metadata": {},
   "source": [
    "### Treating nulls"
   ]
  },
  {
   "cell_type": "code",
   "execution_count": 49,
   "id": "2af41cf1",
   "metadata": {},
   "outputs": [],
   "source": [
    "for i in range(0,25):\n",
    "    train_df[f\"encoded_payment_{i}\"] = replace_null_with_median(train_df[f\"encoded_payment_{i}\"])"
   ]
  },
  {
   "cell_type": "code",
   "execution_count": 51,
   "id": "1fa855aa",
   "metadata": {},
   "outputs": [
    {
     "data": {
      "text/plain": [
       "0"
      ]
     },
     "execution_count": 51,
     "metadata": {},
     "output_type": "execute_result"
    }
   ],
   "source": [
    "train_df.isna().sum().sum()"
   ]
  },
  {
   "cell_type": "markdown",
   "id": "cab47cd7",
   "metadata": {},
   "source": [
    "## Revealition - Customer ID is duplicated"
   ]
  },
  {
   "cell_type": "code",
   "execution_count": 52,
   "id": "a8f4d521",
   "metadata": {},
   "outputs": [
    {
     "data": {
      "text/plain": [
       "1008298"
      ]
     },
     "execution_count": 52,
     "metadata": {},
     "output_type": "execute_result"
    }
   ],
   "source": [
    "train_df[\"customer_id\"].duplicated().sum()"
   ]
  },
  {
   "cell_type": "code",
   "execution_count": 53,
   "id": "f21caf94",
   "metadata": {},
   "outputs": [
    {
     "data": {
      "text/plain": [
       "98376"
      ]
     },
     "execution_count": 53,
     "metadata": {},
     "output_type": "execute_result"
    }
   ],
   "source": [
    "train_df[\"customer_id\"].nunique()"
   ]
  },
  {
   "cell_type": "code",
   "execution_count": 57,
   "id": "53f3c78d",
   "metadata": {},
   "outputs": [
    {
     "data": {
      "text/html": [
       "<div>\n",
       "<style scoped>\n",
       "    .dataframe tbody tr th:only-of-type {\n",
       "        vertical-align: middle;\n",
       "    }\n",
       "\n",
       "    .dataframe tbody tr th {\n",
       "        vertical-align: top;\n",
       "    }\n",
       "\n",
       "    .dataframe thead th {\n",
       "        text-align: right;\n",
       "    }\n",
       "</style>\n",
       "<table border=\"1\" class=\"dataframe\">\n",
       "  <thead>\n",
       "    <tr style=\"text-align: right;\">\n",
       "      <th></th>\n",
       "      <th>customer_id</th>\n",
       "      <th>record_number</th>\n",
       "      <th>primary_close_flag</th>\n",
       "    </tr>\n",
       "  </thead>\n",
       "  <tbody>\n",
       "    <tr>\n",
       "      <th>0</th>\n",
       "      <td>0001a90c-2638-435a-b6c9-19ab2b826ab2</td>\n",
       "      <td>1</td>\n",
       "      <td>1</td>\n",
       "    </tr>\n",
       "    <tr>\n",
       "      <th>1</th>\n",
       "      <td>0001a90c-2638-435a-b6c9-19ab2b826ab2</td>\n",
       "      <td>2</td>\n",
       "      <td>1</td>\n",
       "    </tr>\n",
       "    <tr>\n",
       "      <th>2</th>\n",
       "      <td>0001a90c-2638-435a-b6c9-19ab2b826ab2</td>\n",
       "      <td>3</td>\n",
       "      <td>1</td>\n",
       "    </tr>\n",
       "    <tr>\n",
       "      <th>3</th>\n",
       "      <td>0001a90c-2638-435a-b6c9-19ab2b826ab2</td>\n",
       "      <td>5</td>\n",
       "      <td>1</td>\n",
       "    </tr>\n",
       "    <tr>\n",
       "      <th>4</th>\n",
       "      <td>0001a90c-2638-435a-b6c9-19ab2b826ab2</td>\n",
       "      <td>6</td>\n",
       "      <td>1</td>\n",
       "    </tr>\n",
       "    <tr>\n",
       "      <th>...</th>\n",
       "      <td>...</td>\n",
       "      <td>...</td>\n",
       "      <td>...</td>\n",
       "    </tr>\n",
       "    <tr>\n",
       "      <th>1106669</th>\n",
       "      <td>ffffdbe4-0103-4f01-ad7c-fdd2f52dbb43</td>\n",
       "      <td>7</td>\n",
       "      <td>1</td>\n",
       "    </tr>\n",
       "    <tr>\n",
       "      <th>1106670</th>\n",
       "      <td>ffffdbe4-0103-4f01-ad7c-fdd2f52dbb43</td>\n",
       "      <td>8</td>\n",
       "      <td>1</td>\n",
       "    </tr>\n",
       "    <tr>\n",
       "      <th>1106671</th>\n",
       "      <td>ffffdbe4-0103-4f01-ad7c-fdd2f52dbb43</td>\n",
       "      <td>9</td>\n",
       "      <td>1</td>\n",
       "    </tr>\n",
       "    <tr>\n",
       "      <th>1106672</th>\n",
       "      <td>ffffdbe4-0103-4f01-ad7c-fdd2f52dbb43</td>\n",
       "      <td>10</td>\n",
       "      <td>1</td>\n",
       "    </tr>\n",
       "    <tr>\n",
       "      <th>1106673</th>\n",
       "      <td>ffffdbe4-0103-4f01-ad7c-fdd2f52dbb43</td>\n",
       "      <td>12</td>\n",
       "      <td>1</td>\n",
       "    </tr>\n",
       "  </tbody>\n",
       "</table>\n",
       "<p>1106674 rows × 3 columns</p>\n",
       "</div>"
      ],
      "text/plain": [
       "                                  customer_id  record_number  \\\n",
       "0        0001a90c-2638-435a-b6c9-19ab2b826ab2              1   \n",
       "1        0001a90c-2638-435a-b6c9-19ab2b826ab2              2   \n",
       "2        0001a90c-2638-435a-b6c9-19ab2b826ab2              3   \n",
       "3        0001a90c-2638-435a-b6c9-19ab2b826ab2              5   \n",
       "4        0001a90c-2638-435a-b6c9-19ab2b826ab2              6   \n",
       "...                                       ...            ...   \n",
       "1106669  ffffdbe4-0103-4f01-ad7c-fdd2f52dbb43              7   \n",
       "1106670  ffffdbe4-0103-4f01-ad7c-fdd2f52dbb43              8   \n",
       "1106671  ffffdbe4-0103-4f01-ad7c-fdd2f52dbb43              9   \n",
       "1106672  ffffdbe4-0103-4f01-ad7c-fdd2f52dbb43             10   \n",
       "1106673  ffffdbe4-0103-4f01-ad7c-fdd2f52dbb43             12   \n",
       "\n",
       "         primary_close_flag  \n",
       "0                         1  \n",
       "1                         1  \n",
       "2                         1  \n",
       "3                         1  \n",
       "4                         1  \n",
       "...                     ...  \n",
       "1106669                   1  \n",
       "1106670                   1  \n",
       "1106671                   1  \n",
       "1106672                   1  \n",
       "1106673                   1  \n",
       "\n",
       "[1106674 rows x 3 columns]"
      ]
     },
     "execution_count": 57,
     "metadata": {},
     "output_type": "execute_result"
    }
   ],
   "source": [
    "train_df.groupby([\"customer_id\", \"record_number\"], as_index = False)[\"primary_close_flag\"].count()"
   ]
  },
  {
   "cell_type": "code",
   "execution_count": 54,
   "id": "43dd57b8",
   "metadata": {},
   "outputs": [
    {
     "data": {
      "text/plain": [
       "97704"
      ]
     },
     "execution_count": 54,
     "metadata": {},
     "output_type": "execute_result"
    }
   ],
   "source": [
    "test_df[\"customer_id\"].nunique()"
   ]
  },
  {
   "cell_type": "code",
   "execution_count": 55,
   "id": "3286b04b",
   "metadata": {},
   "outputs": [
    {
     "data": {
      "text/plain": [
       "(474289, 60)"
      ]
     },
     "execution_count": 55,
     "metadata": {},
     "output_type": "execute_result"
    }
   ],
   "source": [
    "test_df.shape"
   ]
  },
  {
   "cell_type": "markdown",
   "id": "3e621bc9",
   "metadata": {},
   "source": [
    "## PCA to reduce the dimensions"
   ]
  },
  {
   "cell_type": "markdown",
   "id": "68f9b419",
   "metadata": {},
   "source": [
    "### Creating a primary key"
   ]
  },
  {
   "cell_type": "code",
   "execution_count": 62,
   "id": "ccd4ca94",
   "metadata": {},
   "outputs": [],
   "source": [
    "train_df[\"primary_key\"] = train_df[\"customer_id\"] + \"_\" + train_df[\"record_number\"].astype(\"str\")"
   ]
  },
  {
   "cell_type": "markdown",
   "id": "f492e270",
   "metadata": {},
   "source": [
    "### Filtering numerical columns"
   ]
  },
  {
   "cell_type": "code",
   "execution_count": 64,
   "id": "afdd78c7",
   "metadata": {},
   "outputs": [
    {
     "name": "stdout",
     "output_type": "stream",
     "text": [
      "<class 'pandas.core.frame.DataFrame'>\n",
      "RangeIndex: 1106674 entries, 0 to 1106673\n",
      "Data columns (total 63 columns):\n",
      " #   Column                              Non-Null Count    Dtype  \n",
      "---  ------                              --------------    -----  \n",
      " 0   customer_id                         1106674 non-null  object \n",
      " 1   firstname                           1106674 non-null  object \n",
      " 2   lastname                            1106674 non-null  object \n",
      " 3   record_number                       1106674 non-null  int64  \n",
      " 4   days_since_opened                   1106674 non-null  int64  \n",
      " 5   days_since_confirmed                1106674 non-null  int64  \n",
      " 6   primary_term                        1106674 non-null  int64  \n",
      " 7   final_term                          1106674 non-null  int64  \n",
      " 8   days_till_primary_close             1106674 non-null  int64  \n",
      " 9   days_till_final_close               1106674 non-null  int64  \n",
      " 10  loans_credit_limit                  1106674 non-null  int64  \n",
      " 11  loans_next_payment_summary          1106674 non-null  int64  \n",
      " 12  loans_outstanding_balance           1106674 non-null  int64  \n",
      " 13  loans_max_overdue_amount            1106674 non-null  int64  \n",
      " 14  loans_credit_cost_rate              1106674 non-null  int64  \n",
      " 15  loans_within_5_days                 1106674 non-null  int64  \n",
      " 16  loans_within_5_to_30_days           1106674 non-null  int64  \n",
      " 17  loans_within_30_to_60_days          1106674 non-null  int64  \n",
      " 18  loans_within_60_to_90_days          1106674 non-null  int64  \n",
      " 19  loans_over_90_days                  1106674 non-null  int64  \n",
      " 20  is_zero_loans_within_5_days         1106674 non-null  object \n",
      " 21  is_zero_loans_within_5_to_30_days   1106674 non-null  object \n",
      " 22  is_zero_loans_within_30_to_60_days  1106674 non-null  object \n",
      " 23  is_zero_loans_within_60_to_90_days  1106674 non-null  object \n",
      " 24  is_zero_loans_over_90_days          1106674 non-null  object \n",
      " 25  utilization                         1106674 non-null  int64  \n",
      " 26  over_limit_count                    1106674 non-null  int64  \n",
      " 27  max_over_limit_count                1106674 non-null  int64  \n",
      " 28  is_zero_utilization                 1106674 non-null  object \n",
      " 29  is_zero_over_limit_count            1106674 non-null  object \n",
      " 30  is_zero_max_over_limit_count        1106674 non-null  object \n",
      " 31  encoded_payment_0                   1106674 non-null  float64\n",
      " 32  encoded_payment_1                   1106674 non-null  float64\n",
      " 33  encoded_payment_2                   1106674 non-null  float64\n",
      " 34  encoded_payment_3                   1106674 non-null  float64\n",
      " 35  encoded_payment_4                   1106674 non-null  float64\n",
      " 36  encoded_payment_5                   1106674 non-null  float64\n",
      " 37  encoded_payment_6                   1106674 non-null  float64\n",
      " 38  encoded_payment_7                   1106674 non-null  float64\n",
      " 39  encoded_payment_8                   1106674 non-null  float64\n",
      " 40  encoded_payment_9                   1106674 non-null  float64\n",
      " 41  encoded_payment_10                  1106674 non-null  float64\n",
      " 42  encoded_payment_11                  1106674 non-null  float64\n",
      " 43  encoded_payment_12                  1106674 non-null  float64\n",
      " 44  encoded_payment_13                  1106674 non-null  float64\n",
      " 45  encoded_payment_14                  1106674 non-null  float64\n",
      " 46  encoded_payment_15                  1106674 non-null  float64\n",
      " 47  encoded_payment_16                  1106674 non-null  float64\n",
      " 48  encoded_payment_17                  1106674 non-null  float64\n",
      " 49  encoded_payment_18                  1106674 non-null  float64\n",
      " 50  encoded_payment_19                  1106674 non-null  float64\n",
      " 51  encoded_payment_20                  1106674 non-null  float64\n",
      " 52  encoded_payment_21                  1106674 non-null  float64\n",
      " 53  encoded_payment_22                  1106674 non-null  float64\n",
      " 54  encoded_payment_23                  1106674 non-null  float64\n",
      " 55  encoded_payment_24                  1106674 non-null  float64\n",
      " 56  encoded_loans_account_holder_type   1106674 non-null  int64  \n",
      " 57  encoded_loans_credit_status         1106674 non-null  int64  \n",
      " 58  encoded_loans_credit_type           1106674 non-null  int64  \n",
      " 59  encoded_loans_account_currency      1106674 non-null  int64  \n",
      " 60  primary_close_flag                  1106674 non-null  int64  \n",
      " 61  final_close_flag                    1106674 non-null  int64  \n",
      " 62  primary_key                         1106674 non-null  object \n",
      "dtypes: float64(25), int64(26), object(12)\n",
      "memory usage: 531.9+ MB\n"
     ]
    }
   ],
   "source": [
    "train_df.info()"
   ]
  },
  {
   "cell_type": "code",
   "execution_count": 68,
   "id": "4c02c7ce",
   "metadata": {},
   "outputs": [
    {
     "data": {
      "text/html": [
       "<div>\n",
       "<style scoped>\n",
       "    .dataframe tbody tr th:only-of-type {\n",
       "        vertical-align: middle;\n",
       "    }\n",
       "\n",
       "    .dataframe tbody tr th {\n",
       "        vertical-align: top;\n",
       "    }\n",
       "\n",
       "    .dataframe thead th {\n",
       "        text-align: right;\n",
       "    }\n",
       "</style>\n",
       "<table border=\"1\" class=\"dataframe\">\n",
       "  <thead>\n",
       "    <tr style=\"text-align: right;\">\n",
       "      <th></th>\n",
       "      <th>is_zero_loans_within_5_days</th>\n",
       "      <th>loans_within_5_days</th>\n",
       "      <th>customer_id</th>\n",
       "      <th>record_number</th>\n",
       "    </tr>\n",
       "  </thead>\n",
       "  <tbody>\n",
       "    <tr>\n",
       "      <th>915417</th>\n",
       "      <td>No</td>\n",
       "      <td>0</td>\n",
       "      <td>000e4fad-b42c-4f0b-89f2-26efeb0c2677</td>\n",
       "      <td>8</td>\n",
       "    </tr>\n",
       "    <tr>\n",
       "      <th>865848</th>\n",
       "      <td>No</td>\n",
       "      <td>0</td>\n",
       "      <td>0040fc3c-2d6f-4514-ae51-8a722cca94f7</td>\n",
       "      <td>15</td>\n",
       "    </tr>\n",
       "    <tr>\n",
       "      <th>1061868</th>\n",
       "      <td>No</td>\n",
       "      <td>0</td>\n",
       "      <td>0050b217-2233-446d-9232-55d94d436b1c</td>\n",
       "      <td>10</td>\n",
       "    </tr>\n",
       "    <tr>\n",
       "      <th>749632</th>\n",
       "      <td>No</td>\n",
       "      <td>0</td>\n",
       "      <td>00732a5a-935f-4df6-a581-bd080a502ebb</td>\n",
       "      <td>2</td>\n",
       "    </tr>\n",
       "    <tr>\n",
       "      <th>887184</th>\n",
       "      <td>No</td>\n",
       "      <td>0</td>\n",
       "      <td>00732a5a-935f-4df6-a581-bd080a502ebb</td>\n",
       "      <td>3</td>\n",
       "    </tr>\n",
       "    <tr>\n",
       "      <th>...</th>\n",
       "      <td>...</td>\n",
       "      <td>...</td>\n",
       "      <td>...</td>\n",
       "      <td>...</td>\n",
       "    </tr>\n",
       "    <tr>\n",
       "      <th>332395</th>\n",
       "      <td>No</td>\n",
       "      <td>16</td>\n",
       "      <td>e27483fe-612e-4803-83bf-484bafbf12e0</td>\n",
       "      <td>3</td>\n",
       "    </tr>\n",
       "    <tr>\n",
       "      <th>388856</th>\n",
       "      <td>No</td>\n",
       "      <td>16</td>\n",
       "      <td>eac7c258-add3-4e8b-8df9-0dcf873d4e61</td>\n",
       "      <td>2</td>\n",
       "    </tr>\n",
       "    <tr>\n",
       "      <th>471060</th>\n",
       "      <td>No</td>\n",
       "      <td>16</td>\n",
       "      <td>eb0c5885-a692-4958-842f-abf5b0d6b3ee</td>\n",
       "      <td>8</td>\n",
       "    </tr>\n",
       "    <tr>\n",
       "      <th>590783</th>\n",
       "      <td>No</td>\n",
       "      <td>16</td>\n",
       "      <td>ef62cdd7-5ddd-41fe-98c0-bdd2a5fe06a5</td>\n",
       "      <td>9</td>\n",
       "    </tr>\n",
       "    <tr>\n",
       "      <th>579156</th>\n",
       "      <td>No</td>\n",
       "      <td>16</td>\n",
       "      <td>f98c8ee9-1101-41e8-8554-0184288aee8d</td>\n",
       "      <td>17</td>\n",
       "    </tr>\n",
       "  </tbody>\n",
       "</table>\n",
       "<p>1106674 rows × 4 columns</p>\n",
       "</div>"
      ],
      "text/plain": [
       "        is_zero_loans_within_5_days  loans_within_5_days  \\\n",
       "915417                           No                    0   \n",
       "865848                           No                    0   \n",
       "1061868                          No                    0   \n",
       "749632                           No                    0   \n",
       "887184                           No                    0   \n",
       "...                             ...                  ...   \n",
       "332395                           No                   16   \n",
       "388856                           No                   16   \n",
       "471060                           No                   16   \n",
       "590783                           No                   16   \n",
       "579156                           No                   16   \n",
       "\n",
       "                                  customer_id  record_number  \n",
       "915417   000e4fad-b42c-4f0b-89f2-26efeb0c2677              8  \n",
       "865848   0040fc3c-2d6f-4514-ae51-8a722cca94f7             15  \n",
       "1061868  0050b217-2233-446d-9232-55d94d436b1c             10  \n",
       "749632   00732a5a-935f-4df6-a581-bd080a502ebb              2  \n",
       "887184   00732a5a-935f-4df6-a581-bd080a502ebb              3  \n",
       "...                                       ...            ...  \n",
       "332395   e27483fe-612e-4803-83bf-484bafbf12e0              3  \n",
       "388856   eac7c258-add3-4e8b-8df9-0dcf873d4e61              2  \n",
       "471060   eb0c5885-a692-4958-842f-abf5b0d6b3ee              8  \n",
       "590783   ef62cdd7-5ddd-41fe-98c0-bdd2a5fe06a5              9  \n",
       "579156   f98c8ee9-1101-41e8-8554-0184288aee8d             17  \n",
       "\n",
       "[1106674 rows x 4 columns]"
      ]
     },
     "execution_count": 68,
     "metadata": {},
     "output_type": "execute_result"
    }
   ],
   "source": [
    "train_df[[\"is_zero_loans_within_5_days\", \"loans_within_5_days\", \"customer_id\", \"record_number\"]].sort_values([\"loans_within_5_days\",\"customer_id\", \"record_number\"])"
   ]
  },
  {
   "cell_type": "markdown",
   "id": "339501f9",
   "metadata": {},
   "source": [
    "> These fields seem to be repititive and can be removed"
   ]
  },
  {
   "cell_type": "markdown",
   "id": "bec6cef2",
   "metadata": {},
   "source": [
    "> Removing all the boolean columns from the analysis"
   ]
  },
  {
   "cell_type": "markdown",
   "id": "f8cfc248",
   "metadata": {},
   "source": [
    "### Identifying all the columns containing \"is_\""
   ]
  },
  {
   "cell_type": "code",
   "execution_count": 84,
   "id": "0526bf7a",
   "metadata": {},
   "outputs": [
    {
     "data": {
      "text/plain": [
       "['customer_id',\n",
       " 'firstname',\n",
       " 'lastname',\n",
       " 'record_number',\n",
       " 'days_since_opened',\n",
       " 'days_since_confirmed',\n",
       " 'primary_term',\n",
       " 'final_term',\n",
       " 'days_till_primary_close',\n",
       " 'days_till_final_close',\n",
       " 'loans_credit_limit',\n",
       " 'loans_next_payment_summary',\n",
       " 'loans_outstanding_balance',\n",
       " 'loans_max_overdue_amount',\n",
       " 'loans_credit_cost_rate',\n",
       " 'loans_within_5_days',\n",
       " 'loans_within_5_to_30_days',\n",
       " 'loans_within_30_to_60_days',\n",
       " 'loans_within_60_to_90_days',\n",
       " 'loans_over_90_days',\n",
       " 'utilization',\n",
       " 'over_limit_count',\n",
       " 'max_over_limit_count',\n",
       " 'encoded_payment_0',\n",
       " 'encoded_payment_1',\n",
       " 'encoded_payment_2',\n",
       " 'encoded_payment_3',\n",
       " 'encoded_payment_4',\n",
       " 'encoded_payment_5',\n",
       " 'encoded_payment_6',\n",
       " 'encoded_payment_7',\n",
       " 'encoded_payment_8',\n",
       " 'encoded_payment_9',\n",
       " 'encoded_payment_10',\n",
       " 'encoded_payment_11',\n",
       " 'encoded_payment_12',\n",
       " 'encoded_payment_13',\n",
       " 'encoded_payment_14',\n",
       " 'encoded_payment_15',\n",
       " 'encoded_payment_16',\n",
       " 'encoded_payment_17',\n",
       " 'encoded_payment_18',\n",
       " 'encoded_payment_19',\n",
       " 'encoded_payment_20',\n",
       " 'encoded_payment_21',\n",
       " 'encoded_payment_22',\n",
       " 'encoded_payment_23',\n",
       " 'encoded_payment_24',\n",
       " 'encoded_loans_account_holder_type',\n",
       " 'encoded_loans_credit_status',\n",
       " 'encoded_loans_credit_type',\n",
       " 'encoded_loans_account_currency',\n",
       " 'primary_close_flag',\n",
       " 'final_close_flag',\n",
       " 'primary_key']"
      ]
     },
     "execution_count": 84,
     "metadata": {},
     "output_type": "execute_result"
    }
   ],
   "source": [
    "[element for element in train_df.columns if \"is_\" not in element]"
   ]
  },
  {
   "cell_type": "code",
   "execution_count": 85,
   "id": "e1ae7453",
   "metadata": {},
   "outputs": [],
   "source": [
    "x_labels = ['days_since_opened',\n",
    " 'days_since_confirmed',\n",
    " 'primary_term',\n",
    " 'final_term',\n",
    " 'days_till_primary_close',\n",
    " 'days_till_final_close',\n",
    " 'loans_credit_limit',\n",
    " 'loans_next_payment_summary',\n",
    " 'loans_outstanding_balance',\n",
    " 'loans_max_overdue_amount',\n",
    " 'loans_credit_cost_rate',\n",
    " 'loans_within_5_days',\n",
    " 'loans_within_5_to_30_days',\n",
    " 'loans_within_30_to_60_days',\n",
    " 'loans_within_60_to_90_days',\n",
    " 'loans_over_90_days',\n",
    " 'utilization',\n",
    " 'over_limit_count',\n",
    " 'max_over_limit_count',\n",
    " 'encoded_payment_0',\n",
    " 'encoded_payment_1',\n",
    " 'encoded_payment_2',\n",
    " 'encoded_payment_3',\n",
    " 'encoded_payment_4',\n",
    " 'encoded_payment_5',\n",
    " 'encoded_payment_6',\n",
    " 'encoded_payment_7',\n",
    " 'encoded_payment_8',\n",
    " 'encoded_payment_9',\n",
    " 'encoded_payment_10',\n",
    " 'encoded_payment_11',\n",
    " 'encoded_payment_12',\n",
    " 'encoded_payment_13',\n",
    " 'encoded_payment_14',\n",
    " 'encoded_payment_15',\n",
    " 'encoded_payment_16',\n",
    " 'encoded_payment_17',\n",
    " 'encoded_payment_18',\n",
    " 'encoded_payment_19',\n",
    " 'encoded_payment_20',\n",
    " 'encoded_payment_21',\n",
    " 'encoded_payment_22',\n",
    " 'encoded_payment_23',\n",
    " 'encoded_payment_24',\n",
    " 'encoded_loans_account_holder_type',\n",
    " 'encoded_loans_credit_status',\n",
    " 'encoded_loans_credit_type',\n",
    " 'encoded_loans_account_currency',\n",
    "#  'primary_close_flag',\n",
    "#  'final_close_flag',\n",
    "#  'primary_key'\n",
    "]"
   ]
  },
  {
   "cell_type": "markdown",
   "id": "7e8b07ae",
   "metadata": {},
   "source": [
    "### Test train split"
   ]
  },
  {
   "cell_type": "code",
   "execution_count": 87,
   "id": "99d8079c",
   "metadata": {},
   "outputs": [],
   "source": [
    "from sklearn.model_selection import train_test_split\n",
    "X, y = train_df[x_labels], train_df[\"primary_close_flag\"]\n",
    "\n",
    "# Step 3: Split the dataset into training and testing sets\n",
    "test_size = 0.3  # You can adjust the test size as needed (e.g., 0.2 for an 80-20 split)\n",
    "random_state = 42  # Set a random seed for reproducibility\n",
    "\n",
    "X_train, X_test, y_train, y_test = train_test_split(X, y, test_size=test_size, random_state=random_state)\n"
   ]
  },
  {
   "cell_type": "code",
   "execution_count": 88,
   "id": "258cac9f",
   "metadata": {},
   "outputs": [
    {
     "data": {
      "text/html": [
       "<div>\n",
       "<style scoped>\n",
       "    .dataframe tbody tr th:only-of-type {\n",
       "        vertical-align: middle;\n",
       "    }\n",
       "\n",
       "    .dataframe tbody tr th {\n",
       "        vertical-align: top;\n",
       "    }\n",
       "\n",
       "    .dataframe thead th {\n",
       "        text-align: right;\n",
       "    }\n",
       "</style>\n",
       "<table border=\"1\" class=\"dataframe\">\n",
       "  <thead>\n",
       "    <tr style=\"text-align: right;\">\n",
       "      <th></th>\n",
       "      <th>days_since_opened</th>\n",
       "      <th>days_since_confirmed</th>\n",
       "      <th>primary_term</th>\n",
       "      <th>final_term</th>\n",
       "      <th>days_till_primary_close</th>\n",
       "      <th>days_till_final_close</th>\n",
       "      <th>loans_credit_limit</th>\n",
       "      <th>loans_next_payment_summary</th>\n",
       "      <th>loans_outstanding_balance</th>\n",
       "      <th>loans_max_overdue_amount</th>\n",
       "      <th>...</th>\n",
       "      <th>encoded_payment_19</th>\n",
       "      <th>encoded_payment_20</th>\n",
       "      <th>encoded_payment_21</th>\n",
       "      <th>encoded_payment_22</th>\n",
       "      <th>encoded_payment_23</th>\n",
       "      <th>encoded_payment_24</th>\n",
       "      <th>encoded_loans_account_holder_type</th>\n",
       "      <th>encoded_loans_credit_status</th>\n",
       "      <th>encoded_loans_credit_type</th>\n",
       "      <th>encoded_loans_account_currency</th>\n",
       "    </tr>\n",
       "  </thead>\n",
       "  <tbody>\n",
       "    <tr>\n",
       "      <th>610038</th>\n",
       "      <td>11</td>\n",
       "      <td>0</td>\n",
       "      <td>2</td>\n",
       "      <td>8</td>\n",
       "      <td>1</td>\n",
       "      <td>11</td>\n",
       "      <td>0</td>\n",
       "      <td>5</td>\n",
       "      <td>5</td>\n",
       "      <td>2</td>\n",
       "      <td>...</td>\n",
       "      <td>3.0</td>\n",
       "      <td>4.0</td>\n",
       "      <td>3.0</td>\n",
       "      <td>3.0</td>\n",
       "      <td>3.0</td>\n",
       "      <td>4.0</td>\n",
       "      <td>1</td>\n",
       "      <td>2</td>\n",
       "      <td>4</td>\n",
       "      <td>1</td>\n",
       "    </tr>\n",
       "    <tr>\n",
       "      <th>422640</th>\n",
       "      <td>5</td>\n",
       "      <td>12</td>\n",
       "      <td>17</td>\n",
       "      <td>8</td>\n",
       "      <td>7</td>\n",
       "      <td>11</td>\n",
       "      <td>17</td>\n",
       "      <td>1</td>\n",
       "      <td>3</td>\n",
       "      <td>2</td>\n",
       "      <td>...</td>\n",
       "      <td>3.0</td>\n",
       "      <td>4.0</td>\n",
       "      <td>3.0</td>\n",
       "      <td>3.0</td>\n",
       "      <td>3.0</td>\n",
       "      <td>4.0</td>\n",
       "      <td>1</td>\n",
       "      <td>2</td>\n",
       "      <td>3</td>\n",
       "      <td>1</td>\n",
       "    </tr>\n",
       "    <tr>\n",
       "      <th>271848</th>\n",
       "      <td>16</td>\n",
       "      <td>7</td>\n",
       "      <td>15</td>\n",
       "      <td>12</td>\n",
       "      <td>4</td>\n",
       "      <td>9</td>\n",
       "      <td>1</td>\n",
       "      <td>2</td>\n",
       "      <td>3</td>\n",
       "      <td>3</td>\n",
       "      <td>...</td>\n",
       "      <td>3.0</td>\n",
       "      <td>4.0</td>\n",
       "      <td>3.0</td>\n",
       "      <td>3.0</td>\n",
       "      <td>3.0</td>\n",
       "      <td>4.0</td>\n",
       "      <td>1</td>\n",
       "      <td>3</td>\n",
       "      <td>4</td>\n",
       "      <td>1</td>\n",
       "    </tr>\n",
       "    <tr>\n",
       "      <th>48433</th>\n",
       "      <td>19</td>\n",
       "      <td>0</td>\n",
       "      <td>1</td>\n",
       "      <td>8</td>\n",
       "      <td>14</td>\n",
       "      <td>11</td>\n",
       "      <td>9</td>\n",
       "      <td>3</td>\n",
       "      <td>5</td>\n",
       "      <td>2</td>\n",
       "      <td>...</td>\n",
       "      <td>3.0</td>\n",
       "      <td>4.0</td>\n",
       "      <td>3.0</td>\n",
       "      <td>3.0</td>\n",
       "      <td>3.0</td>\n",
       "      <td>4.0</td>\n",
       "      <td>1</td>\n",
       "      <td>2</td>\n",
       "      <td>4</td>\n",
       "      <td>1</td>\n",
       "    </tr>\n",
       "    <tr>\n",
       "      <th>761356</th>\n",
       "      <td>2</td>\n",
       "      <td>16</td>\n",
       "      <td>10</td>\n",
       "      <td>13</td>\n",
       "      <td>14</td>\n",
       "      <td>8</td>\n",
       "      <td>6</td>\n",
       "      <td>2</td>\n",
       "      <td>3</td>\n",
       "      <td>2</td>\n",
       "      <td>...</td>\n",
       "      <td>3.0</td>\n",
       "      <td>4.0</td>\n",
       "      <td>3.0</td>\n",
       "      <td>3.0</td>\n",
       "      <td>3.0</td>\n",
       "      <td>4.0</td>\n",
       "      <td>1</td>\n",
       "      <td>2</td>\n",
       "      <td>3</td>\n",
       "      <td>1</td>\n",
       "    </tr>\n",
       "    <tr>\n",
       "      <th>...</th>\n",
       "      <td>...</td>\n",
       "      <td>...</td>\n",
       "      <td>...</td>\n",
       "      <td>...</td>\n",
       "      <td>...</td>\n",
       "      <td>...</td>\n",
       "      <td>...</td>\n",
       "      <td>...</td>\n",
       "      <td>...</td>\n",
       "      <td>...</td>\n",
       "      <td>...</td>\n",
       "      <td>...</td>\n",
       "      <td>...</td>\n",
       "      <td>...</td>\n",
       "      <td>...</td>\n",
       "      <td>...</td>\n",
       "      <td>...</td>\n",
       "      <td>...</td>\n",
       "      <td>...</td>\n",
       "      <td>...</td>\n",
       "      <td>...</td>\n",
       "    </tr>\n",
       "    <tr>\n",
       "      <th>110268</th>\n",
       "      <td>9</td>\n",
       "      <td>13</td>\n",
       "      <td>3</td>\n",
       "      <td>3</td>\n",
       "      <td>2</td>\n",
       "      <td>6</td>\n",
       "      <td>9</td>\n",
       "      <td>2</td>\n",
       "      <td>3</td>\n",
       "      <td>2</td>\n",
       "      <td>...</td>\n",
       "      <td>3.0</td>\n",
       "      <td>4.0</td>\n",
       "      <td>3.0</td>\n",
       "      <td>3.0</td>\n",
       "      <td>3.0</td>\n",
       "      <td>4.0</td>\n",
       "      <td>1</td>\n",
       "      <td>3</td>\n",
       "      <td>4</td>\n",
       "      <td>1</td>\n",
       "    </tr>\n",
       "    <tr>\n",
       "      <th>259178</th>\n",
       "      <td>0</td>\n",
       "      <td>4</td>\n",
       "      <td>13</td>\n",
       "      <td>0</td>\n",
       "      <td>13</td>\n",
       "      <td>3</td>\n",
       "      <td>6</td>\n",
       "      <td>2</td>\n",
       "      <td>3</td>\n",
       "      <td>2</td>\n",
       "      <td>...</td>\n",
       "      <td>3.0</td>\n",
       "      <td>4.0</td>\n",
       "      <td>3.0</td>\n",
       "      <td>3.0</td>\n",
       "      <td>3.0</td>\n",
       "      <td>4.0</td>\n",
       "      <td>1</td>\n",
       "      <td>3</td>\n",
       "      <td>4</td>\n",
       "      <td>1</td>\n",
       "    </tr>\n",
       "    <tr>\n",
       "      <th>131932</th>\n",
       "      <td>17</td>\n",
       "      <td>3</td>\n",
       "      <td>14</td>\n",
       "      <td>15</td>\n",
       "      <td>14</td>\n",
       "      <td>14</td>\n",
       "      <td>7</td>\n",
       "      <td>2</td>\n",
       "      <td>3</td>\n",
       "      <td>2</td>\n",
       "      <td>...</td>\n",
       "      <td>3.0</td>\n",
       "      <td>4.0</td>\n",
       "      <td>3.0</td>\n",
       "      <td>3.0</td>\n",
       "      <td>3.0</td>\n",
       "      <td>4.0</td>\n",
       "      <td>1</td>\n",
       "      <td>3</td>\n",
       "      <td>4</td>\n",
       "      <td>1</td>\n",
       "    </tr>\n",
       "    <tr>\n",
       "      <th>671155</th>\n",
       "      <td>14</td>\n",
       "      <td>11</td>\n",
       "      <td>14</td>\n",
       "      <td>7</td>\n",
       "      <td>16</td>\n",
       "      <td>7</td>\n",
       "      <td>14</td>\n",
       "      <td>2</td>\n",
       "      <td>3</td>\n",
       "      <td>2</td>\n",
       "      <td>...</td>\n",
       "      <td>0.0</td>\n",
       "      <td>1.0</td>\n",
       "      <td>0.0</td>\n",
       "      <td>0.0</td>\n",
       "      <td>0.0</td>\n",
       "      <td>1.0</td>\n",
       "      <td>1</td>\n",
       "      <td>3</td>\n",
       "      <td>4</td>\n",
       "      <td>1</td>\n",
       "    </tr>\n",
       "    <tr>\n",
       "      <th>121958</th>\n",
       "      <td>18</td>\n",
       "      <td>8</td>\n",
       "      <td>13</td>\n",
       "      <td>6</td>\n",
       "      <td>3</td>\n",
       "      <td>10</td>\n",
       "      <td>13</td>\n",
       "      <td>6</td>\n",
       "      <td>3</td>\n",
       "      <td>2</td>\n",
       "      <td>...</td>\n",
       "      <td>3.0</td>\n",
       "      <td>4.0</td>\n",
       "      <td>3.0</td>\n",
       "      <td>3.0</td>\n",
       "      <td>3.0</td>\n",
       "      <td>4.0</td>\n",
       "      <td>1</td>\n",
       "      <td>3</td>\n",
       "      <td>4</td>\n",
       "      <td>1</td>\n",
       "    </tr>\n",
       "  </tbody>\n",
       "</table>\n",
       "<p>774671 rows × 48 columns</p>\n",
       "</div>"
      ],
      "text/plain": [
       "        days_since_opened  days_since_confirmed  primary_term  final_term  \\\n",
       "610038                 11                     0             2           8   \n",
       "422640                  5                    12            17           8   \n",
       "271848                 16                     7            15          12   \n",
       "48433                  19                     0             1           8   \n",
       "761356                  2                    16            10          13   \n",
       "...                   ...                   ...           ...         ...   \n",
       "110268                  9                    13             3           3   \n",
       "259178                  0                     4            13           0   \n",
       "131932                 17                     3            14          15   \n",
       "671155                 14                    11            14           7   \n",
       "121958                 18                     8            13           6   \n",
       "\n",
       "        days_till_primary_close  days_till_final_close  loans_credit_limit  \\\n",
       "610038                        1                     11                   0   \n",
       "422640                        7                     11                  17   \n",
       "271848                        4                      9                   1   \n",
       "48433                        14                     11                   9   \n",
       "761356                       14                      8                   6   \n",
       "...                         ...                    ...                 ...   \n",
       "110268                        2                      6                   9   \n",
       "259178                       13                      3                   6   \n",
       "131932                       14                     14                   7   \n",
       "671155                       16                      7                  14   \n",
       "121958                        3                     10                  13   \n",
       "\n",
       "        loans_next_payment_summary  loans_outstanding_balance  \\\n",
       "610038                           5                          5   \n",
       "422640                           1                          3   \n",
       "271848                           2                          3   \n",
       "48433                            3                          5   \n",
       "761356                           2                          3   \n",
       "...                            ...                        ...   \n",
       "110268                           2                          3   \n",
       "259178                           2                          3   \n",
       "131932                           2                          3   \n",
       "671155                           2                          3   \n",
       "121958                           6                          3   \n",
       "\n",
       "        loans_max_overdue_amount  ...  encoded_payment_19  encoded_payment_20  \\\n",
       "610038                         2  ...                 3.0                 4.0   \n",
       "422640                         2  ...                 3.0                 4.0   \n",
       "271848                         3  ...                 3.0                 4.0   \n",
       "48433                          2  ...                 3.0                 4.0   \n",
       "761356                         2  ...                 3.0                 4.0   \n",
       "...                          ...  ...                 ...                 ...   \n",
       "110268                         2  ...                 3.0                 4.0   \n",
       "259178                         2  ...                 3.0                 4.0   \n",
       "131932                         2  ...                 3.0                 4.0   \n",
       "671155                         2  ...                 0.0                 1.0   \n",
       "121958                         2  ...                 3.0                 4.0   \n",
       "\n",
       "        encoded_payment_21  encoded_payment_22  encoded_payment_23  \\\n",
       "610038                 3.0                 3.0                 3.0   \n",
       "422640                 3.0                 3.0                 3.0   \n",
       "271848                 3.0                 3.0                 3.0   \n",
       "48433                  3.0                 3.0                 3.0   \n",
       "761356                 3.0                 3.0                 3.0   \n",
       "...                    ...                 ...                 ...   \n",
       "110268                 3.0                 3.0                 3.0   \n",
       "259178                 3.0                 3.0                 3.0   \n",
       "131932                 3.0                 3.0                 3.0   \n",
       "671155                 0.0                 0.0                 0.0   \n",
       "121958                 3.0                 3.0                 3.0   \n",
       "\n",
       "        encoded_payment_24  encoded_loans_account_holder_type  \\\n",
       "610038                 4.0                                  1   \n",
       "422640                 4.0                                  1   \n",
       "271848                 4.0                                  1   \n",
       "48433                  4.0                                  1   \n",
       "761356                 4.0                                  1   \n",
       "...                    ...                                ...   \n",
       "110268                 4.0                                  1   \n",
       "259178                 4.0                                  1   \n",
       "131932                 4.0                                  1   \n",
       "671155                 1.0                                  1   \n",
       "121958                 4.0                                  1   \n",
       "\n",
       "        encoded_loans_credit_status  encoded_loans_credit_type  \\\n",
       "610038                            2                          4   \n",
       "422640                            2                          3   \n",
       "271848                            3                          4   \n",
       "48433                             2                          4   \n",
       "761356                            2                          3   \n",
       "...                             ...                        ...   \n",
       "110268                            3                          4   \n",
       "259178                            3                          4   \n",
       "131932                            3                          4   \n",
       "671155                            3                          4   \n",
       "121958                            3                          4   \n",
       "\n",
       "        encoded_loans_account_currency  \n",
       "610038                               1  \n",
       "422640                               1  \n",
       "271848                               1  \n",
       "48433                                1  \n",
       "761356                               1  \n",
       "...                                ...  \n",
       "110268                               1  \n",
       "259178                               1  \n",
       "131932                               1  \n",
       "671155                               1  \n",
       "121958                               1  \n",
       "\n",
       "[774671 rows x 48 columns]"
      ]
     },
     "execution_count": 88,
     "metadata": {},
     "output_type": "execute_result"
    }
   ],
   "source": [
    "X_train"
   ]
  },
  {
   "cell_type": "code",
   "execution_count": 90,
   "id": "ca8d503d",
   "metadata": {},
   "outputs": [
    {
     "data": {
      "text/plain": [
       "0    675300\n",
       "1     99371\n",
       "Name: primary_close_flag, dtype: int64"
      ]
     },
     "execution_count": 90,
     "metadata": {},
     "output_type": "execute_result"
    }
   ],
   "source": [
    "y_train.value_counts()"
   ]
  },
  {
   "cell_type": "markdown",
   "id": "781d0fee",
   "metadata": {},
   "source": [
    "## Random forest - CV"
   ]
  },
  {
   "cell_type": "code",
   "execution_count": 92,
   "id": "5e2c3d9c",
   "metadata": {},
   "outputs": [
    {
     "name": "stdout",
     "output_type": "stream",
     "text": [
      "Cross-Validation Scores: [0.99986575 0.9998864  0.99991222 0.99989673]\n",
      "Mean CV Score: 0.9998902760093691\n",
      "Standard Deviation of CV Scores: 1.6880250409849012e-05\n"
     ]
    }
   ],
   "source": [
    "from sklearn.ensemble import RandomForestClassifier\n",
    "from sklearn.model_selection import cross_val_score\n",
    "# from sklearn.datasets import load_iris  # Replace with your dataset\n",
    "\n",
    "# # Step 2: Load your dataset (replace with your own data loading)\n",
    "# data = load_iris()\n",
    "# X = data.data\n",
    "# y = data.target\n",
    "\n",
    "# Step 4: Create a Random Forest Classifier\n",
    "rf_classifier = RandomForestClassifier(n_estimators=100, random_state=42)\n",
    "\n",
    "# Step 5: Set up cross-validation (e.g., 5-fold cross-validation)\n",
    "num_folds = 5\n",
    "\n",
    "\n",
    "X, y = X_train, y_train\n",
    "# Step 6: Train and evaluate the model using cross-validation\n",
    "cross_val_scores = cross_val_score(rf_classifier, X, y, cv=4)\n",
    "\n",
    "# Print the cross-validation scores\n",
    "print(\"Cross-Validation Scores:\", cross_val_scores)\n",
    "\n",
    "# Optionally, you can calculate and print the mean and standard deviation of the scores\n",
    "print(\"Mean CV Score:\", cross_val_scores.mean())\n",
    "print(\"Standard Deviation of CV Scores:\", cross_val_scores.std())"
   ]
  },
  {
   "cell_type": "markdown",
   "id": "66b0d418",
   "metadata": {},
   "source": [
    "### Fitting the mode on entire data (X, y - full train set) directly"
   ]
  },
  {
   "cell_type": "code",
   "execution_count": 94,
   "id": "251b0a93",
   "metadata": {},
   "outputs": [],
   "source": [
    "from sklearn.metrics import roc_auc_score"
   ]
  },
  {
   "cell_type": "code",
   "execution_count": 95,
   "id": "d58deaf3",
   "metadata": {},
   "outputs": [
    {
     "name": "stdout",
     "output_type": "stream",
     "text": [
      "ROC AUC Score: 0.9999993264159752\n"
     ]
    }
   ],
   "source": [
    "rf_classifier.fit(X_train, y_train)\n",
    "\n",
    "# Step 5: Make predictions on the test set\n",
    "y_pred_proba = rf_classifier.predict_proba(X_test)[:, 1]  # Probability of class 1\n",
    "\n",
    "# Step 6: Calculate the ROC AUC score\n",
    "roc_auc = roc_auc_score(y_test, y_pred_proba)\n",
    "print(\"ROC AUC Score:\", roc_auc)"
   ]
  },
  {
   "cell_type": "markdown",
   "id": "82a30bdb",
   "metadata": {},
   "source": [
    "## Fitting on entire data"
   ]
  },
  {
   "cell_type": "code",
   "execution_count": 96,
   "id": "935cd31c",
   "metadata": {},
   "outputs": [
    {
     "data": {
      "text/html": [
       "<style>#sk-container-id-1 {color: black;background-color: white;}#sk-container-id-1 pre{padding: 0;}#sk-container-id-1 div.sk-toggleable {background-color: white;}#sk-container-id-1 label.sk-toggleable__label {cursor: pointer;display: block;width: 100%;margin-bottom: 0;padding: 0.3em;box-sizing: border-box;text-align: center;}#sk-container-id-1 label.sk-toggleable__label-arrow:before {content: \"▸\";float: left;margin-right: 0.25em;color: #696969;}#sk-container-id-1 label.sk-toggleable__label-arrow:hover:before {color: black;}#sk-container-id-1 div.sk-estimator:hover label.sk-toggleable__label-arrow:before {color: black;}#sk-container-id-1 div.sk-toggleable__content {max-height: 0;max-width: 0;overflow: hidden;text-align: left;background-color: #f0f8ff;}#sk-container-id-1 div.sk-toggleable__content pre {margin: 0.2em;color: black;border-radius: 0.25em;background-color: #f0f8ff;}#sk-container-id-1 input.sk-toggleable__control:checked~div.sk-toggleable__content {max-height: 200px;max-width: 100%;overflow: auto;}#sk-container-id-1 input.sk-toggleable__control:checked~label.sk-toggleable__label-arrow:before {content: \"▾\";}#sk-container-id-1 div.sk-estimator input.sk-toggleable__control:checked~label.sk-toggleable__label {background-color: #d4ebff;}#sk-container-id-1 div.sk-label input.sk-toggleable__control:checked~label.sk-toggleable__label {background-color: #d4ebff;}#sk-container-id-1 input.sk-hidden--visually {border: 0;clip: rect(1px 1px 1px 1px);clip: rect(1px, 1px, 1px, 1px);height: 1px;margin: -1px;overflow: hidden;padding: 0;position: absolute;width: 1px;}#sk-container-id-1 div.sk-estimator {font-family: monospace;background-color: #f0f8ff;border: 1px dotted black;border-radius: 0.25em;box-sizing: border-box;margin-bottom: 0.5em;}#sk-container-id-1 div.sk-estimator:hover {background-color: #d4ebff;}#sk-container-id-1 div.sk-parallel-item::after {content: \"\";width: 100%;border-bottom: 1px solid gray;flex-grow: 1;}#sk-container-id-1 div.sk-label:hover label.sk-toggleable__label {background-color: #d4ebff;}#sk-container-id-1 div.sk-serial::before {content: \"\";position: absolute;border-left: 1px solid gray;box-sizing: border-box;top: 0;bottom: 0;left: 50%;z-index: 0;}#sk-container-id-1 div.sk-serial {display: flex;flex-direction: column;align-items: center;background-color: white;padding-right: 0.2em;padding-left: 0.2em;position: relative;}#sk-container-id-1 div.sk-item {position: relative;z-index: 1;}#sk-container-id-1 div.sk-parallel {display: flex;align-items: stretch;justify-content: center;background-color: white;position: relative;}#sk-container-id-1 div.sk-item::before, #sk-container-id-1 div.sk-parallel-item::before {content: \"\";position: absolute;border-left: 1px solid gray;box-sizing: border-box;top: 0;bottom: 0;left: 50%;z-index: -1;}#sk-container-id-1 div.sk-parallel-item {display: flex;flex-direction: column;z-index: 1;position: relative;background-color: white;}#sk-container-id-1 div.sk-parallel-item:first-child::after {align-self: flex-end;width: 50%;}#sk-container-id-1 div.sk-parallel-item:last-child::after {align-self: flex-start;width: 50%;}#sk-container-id-1 div.sk-parallel-item:only-child::after {width: 0;}#sk-container-id-1 div.sk-dashed-wrapped {border: 1px dashed gray;margin: 0 0.4em 0.5em 0.4em;box-sizing: border-box;padding-bottom: 0.4em;background-color: white;}#sk-container-id-1 div.sk-label label {font-family: monospace;font-weight: bold;display: inline-block;line-height: 1.2em;}#sk-container-id-1 div.sk-label-container {text-align: center;}#sk-container-id-1 div.sk-container {/* jupyter's `normalize.less` sets `[hidden] { display: none; }` but bootstrap.min.css set `[hidden] { display: none !important; }` so we also need the `!important` here to be able to override the default hidden behavior on the sphinx rendered scikit-learn.org. See: https://github.com/scikit-learn/scikit-learn/issues/21755 */display: inline-block !important;position: relative;}#sk-container-id-1 div.sk-text-repr-fallback {display: none;}</style><div id=\"sk-container-id-1\" class=\"sk-top-container\"><div class=\"sk-text-repr-fallback\"><pre>RandomForestClassifier(random_state=42)</pre><b>In a Jupyter environment, please rerun this cell to show the HTML representation or trust the notebook. <br />On GitHub, the HTML representation is unable to render, please try loading this page with nbviewer.org.</b></div><div class=\"sk-container\" hidden><div class=\"sk-item\"><div class=\"sk-estimator sk-toggleable\"><input class=\"sk-toggleable__control sk-hidden--visually\" id=\"sk-estimator-id-1\" type=\"checkbox\" checked><label for=\"sk-estimator-id-1\" class=\"sk-toggleable__label sk-toggleable__label-arrow\">RandomForestClassifier</label><div class=\"sk-toggleable__content\"><pre>RandomForestClassifier(random_state=42)</pre></div></div></div></div></div>"
      ],
      "text/plain": [
       "RandomForestClassifier(random_state=42)"
      ]
     },
     "execution_count": 96,
     "metadata": {},
     "output_type": "execute_result"
    }
   ],
   "source": [
    "rf_classifier.fit(X, y)\n",
    "\n",
    "# Step 5: Make predictions on the test set\n",
    "# y_pred_proba = rf_classifier.predict_proba(X)[:, 1]  # Probability of class 1\n",
    "\n",
    "# # Step 6: Calculate the ROC AUC score\n",
    "# roc_auc = roc_auc_score(y_test, y_pred_proba)\n",
    "# print(\"ROC AUC Score:\", roc_auc)"
   ]
  },
  {
   "cell_type": "code",
   "execution_count": 98,
   "id": "a40d3c53",
   "metadata": {},
   "outputs": [
    {
     "data": {
      "text/plain": [
       "682142    1\n",
       "306955    0\n",
       "436486    0\n",
       "178546    0\n",
       "359338    0\n",
       "         ..\n",
       "678084    0\n",
       "938758    0\n",
       "307077    0\n",
       "128314    0\n",
       "994949    0\n",
       "Name: primary_close_flag, Length: 332003, dtype: int64"
      ]
     },
     "execution_count": 98,
     "metadata": {},
     "output_type": "execute_result"
    }
   ],
   "source": [
    "y_test"
   ]
  },
  {
   "cell_type": "code",
   "execution_count": 97,
   "id": "a4750ace",
   "metadata": {},
   "outputs": [
    {
     "data": {
      "text/plain": [
       "array([1.  , 0.  , 0.04, ..., 0.  , 0.  , 0.  ])"
      ]
     },
     "execution_count": 97,
     "metadata": {},
     "output_type": "execute_result"
    }
   ],
   "source": [
    "y_pred_proba"
   ]
  },
  {
   "cell_type": "markdown",
   "id": "a37fe68c",
   "metadata": {},
   "source": [
    "### fitting on final_close_flag"
   ]
  },
  {
   "cell_type": "code",
   "execution_count": 117,
   "id": "874d810a",
   "metadata": {},
   "outputs": [],
   "source": [
    "\n",
    "X, y_final_close = train_df[x_labels], train_df[\"final_close_flag\"]"
   ]
  },
  {
   "cell_type": "code",
   "execution_count": 118,
   "id": "2e67f2dc",
   "metadata": {},
   "outputs": [],
   "source": [
    "rf_classifier_final_close = RandomForestClassifier(n_estimators=100, random_state=42)"
   ]
  },
  {
   "cell_type": "code",
   "execution_count": 119,
   "id": "f2185943",
   "metadata": {},
   "outputs": [
    {
     "data": {
      "text/html": [
       "<style>#sk-container-id-2 {color: black;background-color: white;}#sk-container-id-2 pre{padding: 0;}#sk-container-id-2 div.sk-toggleable {background-color: white;}#sk-container-id-2 label.sk-toggleable__label {cursor: pointer;display: block;width: 100%;margin-bottom: 0;padding: 0.3em;box-sizing: border-box;text-align: center;}#sk-container-id-2 label.sk-toggleable__label-arrow:before {content: \"▸\";float: left;margin-right: 0.25em;color: #696969;}#sk-container-id-2 label.sk-toggleable__label-arrow:hover:before {color: black;}#sk-container-id-2 div.sk-estimator:hover label.sk-toggleable__label-arrow:before {color: black;}#sk-container-id-2 div.sk-toggleable__content {max-height: 0;max-width: 0;overflow: hidden;text-align: left;background-color: #f0f8ff;}#sk-container-id-2 div.sk-toggleable__content pre {margin: 0.2em;color: black;border-radius: 0.25em;background-color: #f0f8ff;}#sk-container-id-2 input.sk-toggleable__control:checked~div.sk-toggleable__content {max-height: 200px;max-width: 100%;overflow: auto;}#sk-container-id-2 input.sk-toggleable__control:checked~label.sk-toggleable__label-arrow:before {content: \"▾\";}#sk-container-id-2 div.sk-estimator input.sk-toggleable__control:checked~label.sk-toggleable__label {background-color: #d4ebff;}#sk-container-id-2 div.sk-label input.sk-toggleable__control:checked~label.sk-toggleable__label {background-color: #d4ebff;}#sk-container-id-2 input.sk-hidden--visually {border: 0;clip: rect(1px 1px 1px 1px);clip: rect(1px, 1px, 1px, 1px);height: 1px;margin: -1px;overflow: hidden;padding: 0;position: absolute;width: 1px;}#sk-container-id-2 div.sk-estimator {font-family: monospace;background-color: #f0f8ff;border: 1px dotted black;border-radius: 0.25em;box-sizing: border-box;margin-bottom: 0.5em;}#sk-container-id-2 div.sk-estimator:hover {background-color: #d4ebff;}#sk-container-id-2 div.sk-parallel-item::after {content: \"\";width: 100%;border-bottom: 1px solid gray;flex-grow: 1;}#sk-container-id-2 div.sk-label:hover label.sk-toggleable__label {background-color: #d4ebff;}#sk-container-id-2 div.sk-serial::before {content: \"\";position: absolute;border-left: 1px solid gray;box-sizing: border-box;top: 0;bottom: 0;left: 50%;z-index: 0;}#sk-container-id-2 div.sk-serial {display: flex;flex-direction: column;align-items: center;background-color: white;padding-right: 0.2em;padding-left: 0.2em;position: relative;}#sk-container-id-2 div.sk-item {position: relative;z-index: 1;}#sk-container-id-2 div.sk-parallel {display: flex;align-items: stretch;justify-content: center;background-color: white;position: relative;}#sk-container-id-2 div.sk-item::before, #sk-container-id-2 div.sk-parallel-item::before {content: \"\";position: absolute;border-left: 1px solid gray;box-sizing: border-box;top: 0;bottom: 0;left: 50%;z-index: -1;}#sk-container-id-2 div.sk-parallel-item {display: flex;flex-direction: column;z-index: 1;position: relative;background-color: white;}#sk-container-id-2 div.sk-parallel-item:first-child::after {align-self: flex-end;width: 50%;}#sk-container-id-2 div.sk-parallel-item:last-child::after {align-self: flex-start;width: 50%;}#sk-container-id-2 div.sk-parallel-item:only-child::after {width: 0;}#sk-container-id-2 div.sk-dashed-wrapped {border: 1px dashed gray;margin: 0 0.4em 0.5em 0.4em;box-sizing: border-box;padding-bottom: 0.4em;background-color: white;}#sk-container-id-2 div.sk-label label {font-family: monospace;font-weight: bold;display: inline-block;line-height: 1.2em;}#sk-container-id-2 div.sk-label-container {text-align: center;}#sk-container-id-2 div.sk-container {/* jupyter's `normalize.less` sets `[hidden] { display: none; }` but bootstrap.min.css set `[hidden] { display: none !important; }` so we also need the `!important` here to be able to override the default hidden behavior on the sphinx rendered scikit-learn.org. See: https://github.com/scikit-learn/scikit-learn/issues/21755 */display: inline-block !important;position: relative;}#sk-container-id-2 div.sk-text-repr-fallback {display: none;}</style><div id=\"sk-container-id-2\" class=\"sk-top-container\"><div class=\"sk-text-repr-fallback\"><pre>RandomForestClassifier(random_state=42)</pre><b>In a Jupyter environment, please rerun this cell to show the HTML representation or trust the notebook. <br />On GitHub, the HTML representation is unable to render, please try loading this page with nbviewer.org.</b></div><div class=\"sk-container\" hidden><div class=\"sk-item\"><div class=\"sk-estimator sk-toggleable\"><input class=\"sk-toggleable__control sk-hidden--visually\" id=\"sk-estimator-id-2\" type=\"checkbox\" checked><label for=\"sk-estimator-id-2\" class=\"sk-toggleable__label sk-toggleable__label-arrow\">RandomForestClassifier</label><div class=\"sk-toggleable__content\"><pre>RandomForestClassifier(random_state=42)</pre></div></div></div></div></div>"
      ],
      "text/plain": [
       "RandomForestClassifier(random_state=42)"
      ]
     },
     "execution_count": 119,
     "metadata": {},
     "output_type": "execute_result"
    }
   ],
   "source": [
    "rf_classifier_final_close.fit(X, y_final_close)"
   ]
  },
  {
   "cell_type": "markdown",
   "id": "134734aa",
   "metadata": {},
   "source": [
    "## Preprocessing Test data"
   ]
  },
  {
   "cell_type": "markdown",
   "id": "8d808e1b",
   "metadata": {},
   "source": [
    "### STEP 1: Treating nulls"
   ]
  },
  {
   "cell_type": "code",
   "execution_count": 100,
   "id": "246d8177",
   "metadata": {},
   "outputs": [
    {
     "data": {
      "text/plain": [
       "389112"
      ]
     },
     "execution_count": 100,
     "metadata": {},
     "output_type": "execute_result"
    }
   ],
   "source": [
    "test_df.isna().sum().sum()"
   ]
  },
  {
   "cell_type": "code",
   "execution_count": 102,
   "id": "c85e31d9",
   "metadata": {},
   "outputs": [],
   "source": [
    "for i in range(0,25):\n",
    "    test_df[f\"encoded_payment_{i}\"] = replace_null_with_median(test_df[f\"encoded_payment_{i}\"])"
   ]
  },
  {
   "cell_type": "code",
   "execution_count": 103,
   "id": "d508045b",
   "metadata": {},
   "outputs": [
    {
     "data": {
      "text/plain": [
       "0"
      ]
     },
     "execution_count": 103,
     "metadata": {},
     "output_type": "execute_result"
    }
   ],
   "source": [
    "test_df.isna().sum().sum()"
   ]
  },
  {
   "cell_type": "markdown",
   "id": "ac3feef9",
   "metadata": {},
   "source": [
    "### STEP 2: Creating a primary key"
   ]
  },
  {
   "cell_type": "code",
   "execution_count": 104,
   "id": "477ef0ea",
   "metadata": {},
   "outputs": [],
   "source": [
    "test_df[\"primary_key\"] = test_df[\"customer_id\"] + \"_\" + test_df[\"record_number\"].astype(\"str\")"
   ]
  },
  {
   "cell_type": "markdown",
   "id": "58fb90e0",
   "metadata": {},
   "source": [
    "### STEP 3: X_labels"
   ]
  },
  {
   "cell_type": "code",
   "execution_count": 106,
   "id": "b673847e",
   "metadata": {},
   "outputs": [],
   "source": [
    "X = test_df[x_labels]"
   ]
  },
  {
   "cell_type": "code",
   "execution_count": 107,
   "id": "a02a21f5",
   "metadata": {},
   "outputs": [
    {
     "data": {
      "text/plain": [
       "array([0, 0, 0, ..., 0, 0, 0])"
      ]
     },
     "execution_count": 107,
     "metadata": {},
     "output_type": "execute_result"
    }
   ],
   "source": [
    "rf_classifier.predict(X)"
   ]
  },
  {
   "cell_type": "code",
   "execution_count": 111,
   "id": "426d65d9",
   "metadata": {},
   "outputs": [],
   "source": [
    "submission_df[\"primary_close_flag\"] = rf_classifier.predict(X)"
   ]
  },
  {
   "cell_type": "code",
   "execution_count": 113,
   "id": "3996d6de",
   "metadata": {},
   "outputs": [
    {
     "data": {
      "text/plain": [
       "60946"
      ]
     },
     "execution_count": 113,
     "metadata": {},
     "output_type": "execute_result"
    }
   ],
   "source": [
    "submission_df[\"primary_close_flag\"].sum()"
   ]
  },
  {
   "cell_type": "markdown",
   "id": "435dad60",
   "metadata": {},
   "source": [
    "### STEP 4 : Fitting on final_close_flag"
   ]
  },
  {
   "cell_type": "code",
   "execution_count": 120,
   "id": "8bc662e6",
   "metadata": {},
   "outputs": [],
   "source": [
    "X = test_df[x_labels]"
   ]
  },
  {
   "cell_type": "code",
   "execution_count": 121,
   "id": "171305e8",
   "metadata": {},
   "outputs": [],
   "source": [
    "submission_df[\"final_close_flag\"] = rf_classifier_final_close.predict(X)"
   ]
  },
  {
   "cell_type": "code",
   "execution_count": 123,
   "id": "a9ffcc8d",
   "metadata": {},
   "outputs": [
    {
     "data": {
      "text/plain": [
       "91212"
      ]
     },
     "execution_count": 123,
     "metadata": {},
     "output_type": "execute_result"
    }
   ],
   "source": [
    "submission_df[\"final_close_flag\"].sum()"
   ]
  },
  {
   "cell_type": "markdown",
   "id": "0bf6fa9b",
   "metadata": {},
   "source": [
    "### STEP 5: exporting the values"
   ]
  },
  {
   "cell_type": "code",
   "execution_count": 125,
   "id": "fa9d77b4",
   "metadata": {},
   "outputs": [],
   "source": [
    "submission_df.to_csv('my_submission_file.csv', index=False)"
   ]
  },
  {
   "cell_type": "code",
   "execution_count": null,
   "id": "0db78dd4",
   "metadata": {},
   "outputs": [],
   "source": []
  },
  {
   "cell_type": "code",
   "execution_count": null,
   "id": "1978e376",
   "metadata": {},
   "outputs": [],
   "source": []
  },
  {
   "cell_type": "code",
   "execution_count": null,
   "id": "97d03a2e",
   "metadata": {},
   "outputs": [],
   "source": []
  },
  {
   "cell_type": "code",
   "execution_count": null,
   "id": "68fc6a68",
   "metadata": {},
   "outputs": [],
   "source": []
  },
  {
   "cell_type": "code",
   "execution_count": 14,
   "id": "e46e89ee",
   "metadata": {},
   "outputs": [],
   "source": [
    "## train_df.loc[~train_df[\"encoded_payment_1\"].isna(), :].isna().sum().head(60)\n",
    "## This means that the nulls are spread across encoded payments"
   ]
  },
  {
   "cell_type": "code",
   "execution_count": 16,
   "id": "0ca7d6f2",
   "metadata": {},
   "outputs": [],
   "source": [
    "submission_df = pd.read_csv(\"./data/submission.csv\")"
   ]
  },
  {
   "cell_type": "code",
   "execution_count": 15,
   "id": "138c69b5",
   "metadata": {},
   "outputs": [
    {
     "data": {
      "text/html": [
       "<div>\n",
       "<style scoped>\n",
       "    .dataframe tbody tr th:only-of-type {\n",
       "        vertical-align: middle;\n",
       "    }\n",
       "\n",
       "    .dataframe tbody tr th {\n",
       "        vertical-align: top;\n",
       "    }\n",
       "\n",
       "    .dataframe thead th {\n",
       "        text-align: right;\n",
       "    }\n",
       "</style>\n",
       "<table border=\"1\" class=\"dataframe\">\n",
       "  <thead>\n",
       "    <tr style=\"text-align: right;\">\n",
       "      <th></th>\n",
       "      <th>primary_close_flag</th>\n",
       "      <th>final_close_flag</th>\n",
       "    </tr>\n",
       "  </thead>\n",
       "  <tbody>\n",
       "    <tr>\n",
       "      <th>0</th>\n",
       "      <td>0</td>\n",
       "      <td>0</td>\n",
       "    </tr>\n",
       "    <tr>\n",
       "      <th>1</th>\n",
       "      <td>0</td>\n",
       "      <td>0</td>\n",
       "    </tr>\n",
       "    <tr>\n",
       "      <th>2</th>\n",
       "      <td>0</td>\n",
       "      <td>0</td>\n",
       "    </tr>\n",
       "    <tr>\n",
       "      <th>3</th>\n",
       "      <td>0</td>\n",
       "      <td>0</td>\n",
       "    </tr>\n",
       "    <tr>\n",
       "      <th>4</th>\n",
       "      <td>0</td>\n",
       "      <td>0</td>\n",
       "    </tr>\n",
       "    <tr>\n",
       "      <th>...</th>\n",
       "      <td>...</td>\n",
       "      <td>...</td>\n",
       "    </tr>\n",
       "    <tr>\n",
       "      <th>474284</th>\n",
       "      <td>0</td>\n",
       "      <td>0</td>\n",
       "    </tr>\n",
       "    <tr>\n",
       "      <th>474285</th>\n",
       "      <td>0</td>\n",
       "      <td>0</td>\n",
       "    </tr>\n",
       "    <tr>\n",
       "      <th>474286</th>\n",
       "      <td>0</td>\n",
       "      <td>0</td>\n",
       "    </tr>\n",
       "    <tr>\n",
       "      <th>474287</th>\n",
       "      <td>0</td>\n",
       "      <td>0</td>\n",
       "    </tr>\n",
       "    <tr>\n",
       "      <th>474288</th>\n",
       "      <td>0</td>\n",
       "      <td>0</td>\n",
       "    </tr>\n",
       "  </tbody>\n",
       "</table>\n",
       "<p>474289 rows × 2 columns</p>\n",
       "</div>"
      ],
      "text/plain": [
       "        primary_close_flag  final_close_flag\n",
       "0                        0                 0\n",
       "1                        0                 0\n",
       "2                        0                 0\n",
       "3                        0                 0\n",
       "4                        0                 0\n",
       "...                    ...               ...\n",
       "474284                   0                 0\n",
       "474285                   0                 0\n",
       "474286                   0                 0\n",
       "474287                   0                 0\n",
       "474288                   0                 0\n",
       "\n",
       "[474289 rows x 2 columns]"
      ]
     },
     "execution_count": 15,
     "metadata": {},
     "output_type": "execute_result"
    }
   ],
   "source": [
    "submission_df"
   ]
  },
  {
   "cell_type": "code",
   "execution_count": 17,
   "id": "e0b89688",
   "metadata": {},
   "outputs": [],
   "source": [
    "test_df = pd.read_csv(\"./data/test.csv\")"
   ]
  },
  {
   "cell_type": "code",
   "execution_count": 19,
   "id": "f39482c3",
   "metadata": {},
   "outputs": [
    {
     "data": {
      "text/plain": [
       "Index(['customer_id', 'firstname', 'lastname', 'record_number',\n",
       "       'days_since_opened', 'days_since_confirmed', 'primary_term',\n",
       "       'final_term', 'days_till_primary_close', 'days_till_final_close',\n",
       "       'loans_credit_limit', 'loans_next_payment_summary',\n",
       "       'loans_outstanding_balance', 'loans_max_overdue_amount',\n",
       "       'loans_credit_cost_rate', 'loans_within_5_days',\n",
       "       'loans_within_5_to_30_days', 'loans_within_30_to_60_days',\n",
       "       'loans_within_60_to_90_days', 'loans_over_90_days',\n",
       "       'is_zero_loans_within_5_days', 'is_zero_loans_within_5_to_30_days',\n",
       "       'is_zero_loans_within_30_to_60_days',\n",
       "       'is_zero_loans_within_60_to_90_days', 'is_zero_loans_over_90_days',\n",
       "       'utilization', 'over_limit_count', 'max_over_limit_count',\n",
       "       'is_zero_utilization', 'is_zero_over_limit_count',\n",
       "       'is_zero_max_over_limit_count', 'encoded_payment_0',\n",
       "       'encoded_payment_1', 'encoded_payment_2', 'encoded_payment_3',\n",
       "       'encoded_payment_4', 'encoded_payment_5', 'encoded_payment_6',\n",
       "       'encoded_payment_7', 'encoded_payment_8', 'encoded_payment_9',\n",
       "       'encoded_payment_10', 'encoded_payment_11', 'encoded_payment_12',\n",
       "       'encoded_payment_13', 'encoded_payment_14', 'encoded_payment_15',\n",
       "       'encoded_payment_16', 'encoded_payment_17', 'encoded_payment_18',\n",
       "       'encoded_payment_19', 'encoded_payment_20', 'encoded_payment_21',\n",
       "       'encoded_payment_22', 'encoded_payment_23', 'encoded_payment_24',\n",
       "       'encoded_loans_account_holder_type', 'encoded_loans_credit_status',\n",
       "       'encoded_loans_credit_type', 'encoded_loans_account_currency'],\n",
       "      dtype='object')"
      ]
     },
     "execution_count": 19,
     "metadata": {},
     "output_type": "execute_result"
    }
   ],
   "source": [
    "test_df.columns"
   ]
  },
  {
   "cell_type": "code",
   "execution_count": 20,
   "id": "9ea9bd77",
   "metadata": {},
   "outputs": [
    {
     "data": {
      "text/plain": [
       "Index(['customer_id', 'firstname', 'lastname', 'record_number',\n",
       "       'days_since_opened', 'days_since_confirmed', 'primary_term',\n",
       "       'final_term', 'days_till_primary_close', 'days_till_final_close',\n",
       "       'loans_credit_limit', 'loans_next_payment_summary',\n",
       "       'loans_outstanding_balance', 'loans_max_overdue_amount',\n",
       "       'loans_credit_cost_rate', 'loans_within_5_days',\n",
       "       'loans_within_5_to_30_days', 'loans_within_30_to_60_days',\n",
       "       'loans_within_60_to_90_days', 'loans_over_90_days',\n",
       "       'is_zero_loans_within_5_days', 'is_zero_loans_within_5_to_30_days',\n",
       "       'is_zero_loans_within_30_to_60_days',\n",
       "       'is_zero_loans_within_60_to_90_days', 'is_zero_loans_over_90_days',\n",
       "       'utilization', 'over_limit_count', 'max_over_limit_count',\n",
       "       'is_zero_utilization', 'is_zero_over_limit_count',\n",
       "       'is_zero_max_over_limit_count', 'encoded_payment_0',\n",
       "       'encoded_payment_1', 'encoded_payment_2', 'encoded_payment_3',\n",
       "       'encoded_payment_4', 'encoded_payment_5', 'encoded_payment_6',\n",
       "       'encoded_payment_7', 'encoded_payment_8', 'encoded_payment_9',\n",
       "       'encoded_payment_10', 'encoded_payment_11', 'encoded_payment_12',\n",
       "       'encoded_payment_13', 'encoded_payment_14', 'encoded_payment_15',\n",
       "       'encoded_payment_16', 'encoded_payment_17', 'encoded_payment_18',\n",
       "       'encoded_payment_19', 'encoded_payment_20', 'encoded_payment_21',\n",
       "       'encoded_payment_22', 'encoded_payment_23', 'encoded_payment_24',\n",
       "       'encoded_loans_account_holder_type', 'encoded_loans_credit_status',\n",
       "       'encoded_loans_credit_type', 'encoded_loans_account_currency',\n",
       "       'primary_close_flag', 'final_close_flag'],\n",
       "      dtype='object')"
      ]
     },
     "execution_count": 20,
     "metadata": {},
     "output_type": "execute_result"
    }
   ],
   "source": [
    "train_df.columns"
   ]
  },
  {
   "cell_type": "code",
   "execution_count": null,
   "id": "3d86f3de",
   "metadata": {},
   "outputs": [],
   "source": []
  }
 ],
 "metadata": {
  "kernelspec": {
   "display_name": "Python 3 (ipykernel)",
   "language": "python",
   "name": "python3"
  },
  "language_info": {
   "codemirror_mode": {
    "name": "ipython",
    "version": 3
   },
   "file_extension": ".py",
   "mimetype": "text/x-python",
   "name": "python",
   "nbconvert_exporter": "python",
   "pygments_lexer": "ipython3",
   "version": "3.10.9"
  }
 },
 "nbformat": 4,
 "nbformat_minor": 5
}
